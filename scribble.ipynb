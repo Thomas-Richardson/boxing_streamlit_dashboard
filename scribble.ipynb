{
 "cells": [
  {
   "cell_type": "code",
   "execution_count": 1,
   "metadata": {},
   "outputs": [],
   "source": [
    "import streamlit as st\n",
    "import pandas as pd\n",
    "import seaborn as sns \n",
    "import matplotlib.pyplot as plt"
   ]
  },
  {
   "cell_type": "code",
   "execution_count": 13,
   "metadata": {},
   "outputs": [
    {
     "data": {
      "text/html": [
       "<div>\n",
       "<style scoped>\n",
       "    .dataframe tbody tr th:only-of-type {\n",
       "        vertical-align: middle;\n",
       "    }\n",
       "\n",
       "    .dataframe tbody tr th {\n",
       "        vertical-align: top;\n",
       "    }\n",
       "\n",
       "    .dataframe thead th {\n",
       "        text-align: right;\n",
       "    }\n",
       "</style>\n",
       "<table border=\"1\" class=\"dataframe\">\n",
       "  <thead>\n",
       "    <tr style=\"text-align: right;\">\n",
       "      <th></th>\n",
       "      <th>Rank</th>\n",
       "      <th>Name</th>\n",
       "      <th>Weight Class</th>\n",
       "      <th>Record</th>\n",
       "      <th>Age</th>\n",
       "      <th>Location</th>\n",
       "    </tr>\n",
       "  </thead>\n",
       "  <tbody>\n",
       "    <tr>\n",
       "      <th>0</th>\n",
       "      <td>#1</td>\n",
       "      <td>Saul Alvarez</td>\n",
       "      <td>super middle</td>\n",
       "      <td>58 2 2</td>\n",
       "      <td>32.0</td>\n",
       "      <td>Guadalajara, Jalisco, Mexico</td>\n",
       "    </tr>\n",
       "    <tr>\n",
       "      <th>1</th>\n",
       "      <td>#2</td>\n",
       "      <td>Tyson Fury</td>\n",
       "      <td>heavy</td>\n",
       "      <td>33 0 1</td>\n",
       "      <td>34.0</td>\n",
       "      <td>Morecambe, Lancashire, United Kingdom</td>\n",
       "    </tr>\n",
       "    <tr>\n",
       "      <th>2</th>\n",
       "      <td>#3</td>\n",
       "      <td>Dmitrii Bivol</td>\n",
       "      <td>light heavy</td>\n",
       "      <td>21 0 0</td>\n",
       "      <td>31.0</td>\n",
       "      <td>Indio, California, USA</td>\n",
       "    </tr>\n",
       "    <tr>\n",
       "      <th>3</th>\n",
       "      <td>#4</td>\n",
       "      <td>Terence Crawford</td>\n",
       "      <td>welter</td>\n",
       "      <td>39 0 0</td>\n",
       "      <td>35.0</td>\n",
       "      <td>Omaha, Nebraska, USA</td>\n",
       "    </tr>\n",
       "    <tr>\n",
       "      <th>4</th>\n",
       "      <td>#5</td>\n",
       "      <td>Gennadiy Golovkin</td>\n",
       "      <td>middle</td>\n",
       "      <td>42 2 1</td>\n",
       "      <td>40.0</td>\n",
       "      <td>Los Angeles, California, USA</td>\n",
       "    </tr>\n",
       "  </tbody>\n",
       "</table>\n",
       "</div>"
      ],
      "text/plain": [
       "  Rank               Name  Weight Class  Record   Age  \\\n",
       "0   #1       Saul Alvarez  super middle  58 2 2  32.0   \n",
       "1   #2         Tyson Fury         heavy  33 0 1  34.0   \n",
       "2   #3      Dmitrii Bivol   light heavy  21 0 0  31.0   \n",
       "3   #4   Terence Crawford        welter  39 0 0  35.0   \n",
       "4   #5  Gennadiy Golovkin        middle  42 2 1  40.0   \n",
       "\n",
       "                                Location  \n",
       "0           Guadalajara, Jalisco, Mexico  \n",
       "1  Morecambe, Lancashire, United Kingdom  \n",
       "2                 Indio, California, USA  \n",
       "3                   Omaha, Nebraska, USA  \n",
       "4           Los Angeles, California, USA  "
      ]
     },
     "execution_count": 13,
     "metadata": {},
     "output_type": "execute_result"
    }
   ],
   "source": [
    "df= pd.read_csv(\"boxing_data_raw.csv\",\n",
    "                header = None, \n",
    "                names = ['Rank','Name','empty1','Weight Class','Record','Age','empty2','Location'],\n",
    "                usecols=['Rank','Name','Weight Class','Record','Age','Location'])\n",
    "df.head()"
   ]
  },
  {
   "cell_type": "code",
   "execution_count": 6,
   "metadata": {},
   "outputs": [
    {
     "data": {
      "text/plain": [
       "array([nan])"
      ]
     },
     "execution_count": 6,
     "metadata": {},
     "output_type": "execute_result"
    }
   ],
   "source": [
    "# df.loc[:,'Wins'] = "
   ]
  },
  {
   "cell_type": "code",
   "execution_count": 14,
   "metadata": {},
   "outputs": [],
   "source": [
    "df.to_csv('boxing_data_cleaned.csv',index = False)"
   ]
  },
  {
   "cell_type": "code",
   "execution_count": null,
   "metadata": {},
   "outputs": [],
   "source": []
  }
 ],
 "metadata": {
  "kernelspec": {
   "display_name": "Python 3.10.2 ('boxing_streamlit_dashborad_venv': venv)",
   "language": "python",
   "name": "python3"
  },
  "language_info": {
   "codemirror_mode": {
    "name": "ipython",
    "version": 3
   },
   "file_extension": ".py",
   "mimetype": "text/x-python",
   "name": "python",
   "nbconvert_exporter": "python",
   "pygments_lexer": "ipython3",
   "version": "3.10.2"
  },
  "orig_nbformat": 4,
  "vscode": {
   "interpreter": {
    "hash": "581af125c7e9a3f8ac938e89269646521cdbf04aed5bc27978f738b81da80e0c"
   }
  }
 },
 "nbformat": 4,
 "nbformat_minor": 2
}
